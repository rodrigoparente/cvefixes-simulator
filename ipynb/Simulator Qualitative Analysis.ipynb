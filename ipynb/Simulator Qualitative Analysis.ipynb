{
 "cells": [
  {
   "cell_type": "markdown",
   "id": "e7e69602",
   "metadata": {},
   "source": [
    "## Imports"
   ]
  },
  {
   "cell_type": "code",
   "execution_count": 1,
   "id": "fce041c8",
   "metadata": {},
   "outputs": [],
   "source": [
    "# python imports\n",
    "import os\n",
    "import re\n",
    "import json\n",
    "import random\n",
    "\n",
    "# third-party imports\n",
    "import numpy as np\n",
    "import pandas as pd"
   ]
  },
  {
   "cell_type": "markdown",
   "id": "b7c07fd9",
   "metadata": {},
   "source": [
    "## Config"
   ]
  },
  {
   "cell_type": "code",
   "execution_count": 2,
   "id": "0e6b1b6d",
   "metadata": {},
   "outputs": [],
   "source": [
    "NETWORK_NAME = 'Network02'\n",
    "PREFIX = 'scenario-2'\n",
    "\n",
    "DRAW_TITLE = False\n",
    "SAVE_FIG = False\n",
    "\n",
    "OUTPUT_FIG = 'imgs'\n",
    "EXTENSION = 'pdf'"
   ]
  },
  {
   "cell_type": "markdown",
   "id": "9329fb67",
   "metadata": {},
   "source": [
    "## Global Variables"
   ]
  },
  {
   "cell_type": "code",
   "execution_count": 3,
   "id": "eab36213",
   "metadata": {},
   "outputs": [],
   "source": [
    "VUL_COLUMNS = ['cve_id', 'base_score', 'base_severity', 'vendor', 'cve_published_date']\n",
    "CTI_COLUMNS = ['epss', 'exploit_count', 'exploit_published_date', 'attack_type', 'security_advisory', 'mitre_top_25', 'owasp_top_10']\n",
    "CTX_COLUMNS = ['topology', 'asset_type', 'environment', 'sensitive_data', 'end_of_life', 'critical_asset'] \n",
    "\n",
    "SEVERITY_LABELS = ['LOW', 'MEDIUM', 'HIGH', 'CRITICAL']\n",
    "RISK_LABELS = ['LOW', 'MODERATE', 'IMPORTANT', 'CRITICAL']\n",
    "\n",
    "COLORS = {\n",
    "    'LOW': '#14943D',\n",
    "    'MEDIUM': '#FDBE0E',\n",
    "    'MODERATE': '#FDBE0E',\n",
    "    'HIGH': '#FC7303',\n",
    "    'IMPORTANT': '#FC7303',\n",
    "    'CRITICAL': '#F20101'\n",
    "}"
   ]
  },
  {
   "cell_type": "markdown",
   "id": "4809da71",
   "metadata": {},
   "source": [
    "## Utils"
   ]
  },
  {
   "cell_type": "code",
   "execution_count": 4,
   "id": "6be2e31f",
   "metadata": {},
   "outputs": [],
   "source": [
    "def print_value_counts(df, cols, normalize=False):\n",
    "    for col in cols:\n",
    "        val_c = df[col].value_counts(normalize=normalize)\n",
    "\n",
    "        print(f'\\n# {col.upper()}')\n",
    "        for index, value in zip(val_c.index, val_c.values):\n",
    "            print(f' - {index}: {value:.2f}%')"
   ]
  },
  {
   "cell_type": "code",
   "execution_count": 5,
   "id": "a5f636db",
   "metadata": {},
   "outputs": [],
   "source": [
    "def track_candidate(iround, cve_id, cols):\n",
    "    files = os.listdir(f'../output/{NETWORK_NAME}/')\n",
    "\n",
    "    cvss_history = None\n",
    "    frape_history = None\n",
    "    \n",
    "    with open(f'../output/{NETWORK_NAME}/{files[iround]}') as f:\n",
    "\n",
    "        file = json.load(f)\n",
    "\n",
    "        cvss_history = file['history']['cvss']\n",
    "        frape_history = file['history']['frape']\n",
    "        \n",
    "    print(f'\\nloaded file {NETWORK_NAME}/{files[iround]} of independent round {iround}º\\n')\n",
    "    \n",
    "    for index, (cvss, frape) in enumerate(zip(cvss_history, frape_history)):\n",
    "        \n",
    "        cvss = pd.DataFrame.from_records(cvss)\n",
    "        frape = pd.DataFrame.from_records(frape)\n",
    "        \n",
    "        if index == 0:\n",
    "            candidate = frape.loc[frape['cve_id'] == cve_id][cols].squeeze(axis=0)\n",
    "            print(f'{candidate}\\n')\n",
    "        \n",
    "        if cve_id in cvss.cve_id.values:\n",
    "            print(f'- fixed in iteration {index}º for cvss')\n",
    "        \n",
    "        if cve_id in frape.cve_id.values:\n",
    "            print(f'- fixed in iteration {index}º for frape')"
   ]
  },
  {
   "cell_type": "markdown",
   "id": "d68c86cd",
   "metadata": {},
   "source": [
    "## Analysis"
   ]
  },
  {
   "cell_type": "code",
   "execution_count": 6,
   "id": "754db773",
   "metadata": {},
   "outputs": [
    {
     "name": "stdout",
     "output_type": "stream",
     "text": [
      "\n",
      "loaded file Network02/environment-2023-07-08--15-21-03.json of independent round 20º\n",
      "\n",
      "cve_id                                CVE-2020-3956\n",
      "base_score                                      8.8\n",
      "base_severity                                  HIGH\n",
      "vendor                                        linux\n",
      "cve_published_date                       2020-05-20\n",
      "epss                                        0.52583\n",
      "exploit_count                                   1.0\n",
      "exploit_published_date                   2020-06-02\n",
      "attack_type               ['remote code execution']\n",
      "security_advisory                                 0\n",
      "mitre_top_25                                      0\n",
      "owasp_top_10                                      1\n",
      "Name: 0, dtype: object\n",
      "\n",
      "- fixed in iteration 0º for frape\n",
      "- fixed in iteration 28º for cvss\n"
     ]
    }
   ],
   "source": [
    "track_candidate(20, 'CVE-2020-3956', VUL_COLUMNS + CTI_COLUMNS)"
   ]
  },
  {
   "cell_type": "code",
   "execution_count": 7,
   "id": "b163657f",
   "metadata": {},
   "outputs": [
    {
     "name": "stdout",
     "output_type": "stream",
     "text": [
      "\n",
      "loaded file Network02/environment-2023-07-08--16-13-40.json of independent round 15º\n",
      "\n",
      "cve_id                CVE-2021-30613\n",
      "base_score                       8.8\n",
      "base_severity                   HIGH\n",
      "vendor                     microsoft\n",
      "cve_published_date        2021-09-03\n",
      "topology                         DMZ\n",
      "asset_type                    SERVER\n",
      "environment               PRODUCTION\n",
      "sensitive_data                     1\n",
      "end_of_life                        1\n",
      "critical_asset                     0\n",
      "Name: 26, dtype: object\n",
      "\n",
      "- fixed in iteration 0º for frape\n",
      "- fixed in iteration 23º for cvss\n"
     ]
    }
   ],
   "source": [
    "track_candidate(15, 'CVE-2021-30613', VUL_COLUMNS + CTX_COLUMNS)"
   ]
  }
 ],
 "metadata": {
  "kernelspec": {
   "display_name": "Python 3 (ipykernel)",
   "language": "python",
   "name": "python3"
  },
  "language_info": {
   "codemirror_mode": {
    "name": "ipython",
    "version": 3
   },
   "file_extension": ".py",
   "mimetype": "text/x-python",
   "name": "python",
   "nbconvert_exporter": "python",
   "pygments_lexer": "ipython3",
   "version": "3.8.10"
  }
 },
 "nbformat": 4,
 "nbformat_minor": 5
}
