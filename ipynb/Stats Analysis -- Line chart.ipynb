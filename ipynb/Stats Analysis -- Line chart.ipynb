{
 "cells": [
  {
   "cell_type": "markdown",
   "id": "3fe22200",
   "metadata": {},
   "source": [
    "## Load Imports"
   ]
  },
  {
   "cell_type": "code",
   "execution_count": 1,
   "id": "e822128a",
   "metadata": {},
   "outputs": [],
   "source": [
    "# python imports\n",
    "from math import pi\n",
    "import json\n",
    "import os\n",
    "\n",
    "# third-party imports\n",
    "import pandas as pd\n",
    "import numpy as np\n",
    "import scipy.stats as st\n",
    "\n",
    "from sklearn import preprocessing\n",
    "\n",
    "import matplotlib.pyplot as plt\n",
    "import matplotlib.patches as mpatches"
   ]
  },
  {
   "cell_type": "markdown",
   "id": "2439c25c",
   "metadata": {},
   "source": [
    "## Load results"
   ]
  },
  {
   "cell_type": "code",
   "execution_count": 2,
   "id": "83bd0b15",
   "metadata": {},
   "outputs": [],
   "source": [
    "NETWORK_NAME = 'Network01'"
   ]
  },
  {
   "cell_type": "code",
   "execution_count": 3,
   "id": "0130c12a",
   "metadata": {},
   "outputs": [
    {
     "ename": "KeyError",
     "evalue": "'iterations'",
     "output_type": "error",
     "traceback": [
      "\u001b[0;31m---------------------------------------------------------------------------\u001b[0m",
      "\u001b[0;31mKeyError\u001b[0m                                  Traceback (most recent call last)",
      "Cell \u001b[0;32mIn [3], line 18\u001b[0m\n\u001b[1;32m     14\u001b[0m json_file \u001b[38;5;241m=\u001b[39m json\u001b[38;5;241m.\u001b[39mload(f)\n\u001b[1;32m     16\u001b[0m \u001b[38;5;66;03m# loading cvss and frape values\u001b[39;00m\n\u001b[0;32m---> 18\u001b[0m iterations \u001b[38;5;241m=\u001b[39m \u001b[43mjson_file\u001b[49m\u001b[43m[\u001b[49m\u001b[38;5;124;43m'\u001b[39;49m\u001b[38;5;124;43miterations\u001b[39;49m\u001b[38;5;124;43m'\u001b[39;49m\u001b[43m]\u001b[49m\n\u001b[1;32m     20\u001b[0m cvss \u001b[38;5;241m=\u001b[39m pd\u001b[38;5;241m.\u001b[39mDataFrame\u001b[38;5;241m.\u001b[39mfrom_records(iterations[\u001b[38;5;124m'\u001b[39m\u001b[38;5;124mcvss_stats\u001b[39m\u001b[38;5;124m'\u001b[39m])\n\u001b[1;32m     21\u001b[0m frape \u001b[38;5;241m=\u001b[39m pd\u001b[38;5;241m.\u001b[39mDataFrame\u001b[38;5;241m.\u001b[39mfrom_records(iterations[\u001b[38;5;124m'\u001b[39m\u001b[38;5;124mfrape_stats\u001b[39m\u001b[38;5;124m'\u001b[39m])\n",
      "\u001b[0;31mKeyError\u001b[0m: 'iterations'"
     ]
    }
   ],
   "source": [
    "cvss_stats = pd.DataFrame()\n",
    "frape_stats = pd.DataFrame()\n",
    "feature_importances = None\n",
    "vulns = pd.DataFrame()\n",
    "\n",
    "occurrences = 0\n",
    "\n",
    "for file in os.listdir(f'../output/{NETWORK_NAME}/'):\n",
    "    if file.endswith('.json'):\n",
    "        with open(f'../output/{NETWORK_NAME}/{file}') as f:\n",
    "            \n",
    "            occurrences += 1\n",
    "            \n",
    "            json_file = json.load(f)\n",
    "            \n",
    "            # loading cvss and frape values\n",
    "            \n",
    "            iterations = json_file['iterations']\n",
    "        \n",
    "            cvss = pd.DataFrame.from_records(iterations['cvss_stats'])\n",
    "            frape = pd.DataFrame.from_records(iterations['frape_stats'])\n",
    "                       \n",
    "            if not cvss_stats.empty:\n",
    "                cvss_stats += cvss\n",
    "                frape_stats += frape\n",
    "            else:\n",
    "                cvss_stats = cvss\n",
    "                frape_stats = frape\n",
    "            \n",
    "            # loading feature importances\n",
    "            \n",
    "            features = pd.Series(json_file['feature_importances'])\n",
    "                           \n",
    "            if not feature_importances:\n",
    "                feature_importances = {name: [] for name in features.index}\n",
    "            \n",
    "            for name, value in zip(features.index, features.values):\n",
    "                feature_importances[name].append(value)\n",
    "            \n",
    "            # loading vulnerabilities to analysis\n",
    "            \n",
    "            vulns = pd.DataFrame.from_records(json_file['vulnerabilities'])"
   ]
  },
  {
   "cell_type": "code",
   "execution_count": null,
   "id": "0eb291d0",
   "metadata": {},
   "outputs": [],
   "source": [
    "cvss_stats /= occurrences\n",
    "frape_stats /= occurrences\n",
    "\n",
    "feature_importances = pd.DataFrame(feature_importances, columns=feature_importances.keys())\n",
    "\n",
    "feature_importances_std = feature_importances.std()\n",
    "feature_importances = feature_importances.mean()"
   ]
  },
  {
   "cell_type": "markdown",
   "id": "3d7f5a77",
   "metadata": {},
   "source": [
    "## Utils"
   ]
  },
  {
   "cell_type": "code",
   "execution_count": null,
   "id": "9e4b5470",
   "metadata": {},
   "outputs": [],
   "source": [
    "def plot_graph_line(stats, columns, fill=False):\n",
    "    \n",
    "    labels = ['CVSS', 'FRAPE']\n",
    "    lines = ['solid', 'solid']\n",
    "    colors = ['#1f77b4', '#ff7f0e']\n",
    "    hatches = ['////', '..']\n",
    "\n",
    "    fig, axes = plt.subplots(1, len(columns), figsize=(12, 4), constrained_layout=True)\n",
    "            \n",
    "    for ax, column in zip(axes, columns):\n",
    "        \n",
    "        patches = list()\n",
    "        \n",
    "        for stat, label, ls, c, h in zip(stats, labels, lines, colors, hatches):\n",
    "\n",
    "                y = stat[[column]].values\n",
    "                y = np.squeeze(y).tolist()\n",
    "\n",
    "                x = range(len(y))\n",
    "                # x = [i * 2 for i in range(len(y))]\n",
    "\n",
    "                ax.set_title(f'{column.upper()}')\n",
    "                \n",
    "                # https://towardsdatascience.com/how-to-calculate-confidence-intervals-in-python-a8625a48e62b\n",
    "\n",
    "                std = np.std(y) \n",
    "                dof = len(x) - 1 \n",
    "                confidence = 0.95\n",
    "\n",
    "                # calculated using Student’s t distribution\n",
    "                z_score = np.abs(st.t.ppf((1 - confidence) / 2, dof))\n",
    "\n",
    "                yerr = z_score * std / np.sqrt(len(x))\n",
    "\n",
    "                if fill:\n",
    "                    patch = mpatches.Patch(facecolor=c, alpha=0.25, hatch=h, label=label, edgecolor='#0c0c0c')\n",
    "                    patches.append(patch)\n",
    "                    \n",
    "                    ax.plot(x, y, label=f'{label}', ls=ls)\n",
    "                    ax.fill_between(x, y - yerr, y + yerr, hatch=h, alpha=0.25, edgecolor='#0c0c0c')\n",
    "                else:\n",
    "                    ax.errorbar(x, y, yerr=yerr, label=f'{label}-{column}', ls=ls, capsize=2)\n",
    "                    \n",
    "                ax.legend(handles=patches)\n",
    "                ax.grid(True, linestyle='--', alpha=.25)                \n",
    "    \n",
    "    fig.supxlabel('Percentage of Vulnerabilities Fixed (%)')\n",
    "    fig.supylabel('Feature Aggregated Value')\n",
    "    \n",
    "    plt.show()"
   ]
  },
  {
   "cell_type": "markdown",
   "id": "85561c78",
   "metadata": {},
   "source": [
    "## Running"
   ]
  },
  {
   "cell_type": "code",
   "execution_count": null,
   "id": "dd7d14ad",
   "metadata": {},
   "outputs": [],
   "source": [
    "feature_importances = feature_importances[cvss_stats.columns]\n",
    "\n",
    "feature_importances.drop(\n",
    "    labels=['cve_published_date', 'exploit_published_date', 'epss',  'attack_type_none', 'vendor_other'], inplace=True)\n",
    "\n",
    "feature_importances = feature_importances.sort_values(ascending=False).head(12)\n",
    "feature_importance_names = feature_importances.index.tolist()\n",
    "\n",
    "std_values = feature_importances_std[feature_importance_names].values"
   ]
  },
  {
   "cell_type": "code",
   "execution_count": null,
   "id": "45d50a13",
   "metadata": {},
   "outputs": [],
   "source": [
    "fig, ax = plt.subplots()\n",
    "\n",
    "feature_importances.plot.bar(yerr=std_values, ax=ax)\n",
    "\n",
    "ax.set_title(\"Feature importances\")\n",
    "ax.set_ylabel(\"Mean value\")\n",
    "\n",
    "ax.set_xticklabels(feature_importance_names, rotation=85)\n",
    "\n",
    "fig.tight_layout()"
   ]
  },
  {
   "cell_type": "code",
   "execution_count": null,
   "id": "5341cc5e",
   "metadata": {},
   "outputs": [],
   "source": [
    "cvss_stats = cvss_stats[feature_importance_names]\n",
    "frape_stats = frape_stats[feature_importance_names]\n",
    "\n",
    "stats = [cvss_stats, frape_stats]\n",
    "n = len(feature_importance_names)"
   ]
  },
  {
   "cell_type": "code",
   "execution_count": null,
   "id": "c399f094",
   "metadata": {
    "scrolled": false
   },
   "outputs": [],
   "source": [
    "for index in range(0, n, 2):\n",
    "    plot_graph_line(stats, feature_importance_names[index:index + 2], fill=True)"
   ]
  }
 ],
 "metadata": {
  "kernelspec": {
   "display_name": "Python 3 (ipykernel)",
   "language": "python",
   "name": "python3"
  },
  "language_info": {
   "codemirror_mode": {
    "name": "ipython",
    "version": 3
   },
   "file_extension": ".py",
   "mimetype": "text/x-python",
   "name": "python",
   "nbconvert_exporter": "python",
   "pygments_lexer": "ipython3",
   "version": "3.8.10"
  }
 },
 "nbformat": 4,
 "nbformat_minor": 5
}
